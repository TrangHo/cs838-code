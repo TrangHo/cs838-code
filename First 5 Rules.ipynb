{
 "cells": [
  {
   "cell_type": "code",
   "execution_count": 37,
   "metadata": {
    "collapsed": false,
    "scrolled": true
   },
   "outputs": [
    {
     "name": "stdout",
     "output_type": "stream",
     "text": [
      "Grad Students Win Right to Unionize in an Ivy League Case\n",
      "\n",
      "Punctuating a string of Obama-era moves to shore up labor rights and expand protections for workers, the National Labor Relations Board ruled Tuesday that students who work as teaching and research assistants at private universities have a federally backed right to unionize.\n",
      "\n",
      "The case arose from a petition filed by a group of graduate students at <pos>Columbia University</pos>, who are seeking to win recognition for a union that will join the United Automobile Workers and allow them a say over such issues as the quality of their health insurance and the timeliness of stipend payments.\n",
      "\n",
      "Echoing longstanding complaints from blue-collar workers that they have become replaceable cogs in a globalized economic machine, the effort reflects a growing view among more highly educated employees in recent decades that they, too, are at the mercy of faceless organizations and are not being treated like professionals and aspiring professionals whose opinions are worthy of respect.\n",
      "\n",
      "“What we’re fundamentally concerned about isn’t really money,” said Paul R. Katz, one of the <pos>Columbia</pos> graduate students involved in the organizing efforts. “It’s a question of power and democracy in a space in the academy that’s increasingly corporatized, hierarchical. That’s what we’re most concerned about.”\n",
      "\n",
      "<pos>Columbia</pos> and other universities that weighed in with the board before the ruling argued that collective bargaining would lead to a more adversarial relationship between students and the university that would undermine its educational purpose.\n",
      "\n",
      "The decision reverses a 2004 ruling by the board involving graduate student assistants at <pos>Brown University</pos>. The ruling held that the assistants could not be considered employees because they “are primarily students and have a primarily educational, not economic, relationship with their university.”\n",
      "\n",
      "The current board disagreed, arguing that <pos>Columbia</pos> students could be deemed employees if they perform and are compensated for work that the university oversees, even if their relationship was substantially broader.\n",
      "\n",
      "The three Democratic members of the board made up the majority; the lone Republican member dissented. A fifth spot on the board has been vacant since last year.\n",
      "\n",
      "\n"
     ]
    }
   ],
   "source": [
    "import sys\n",
    "import os.path\n",
    "import re\n",
    "textpath = \"/Users/thomasngo/Google Drive/_UW Madison/16-17_S4/CS 838/_Project/git_code/cs838-code/texts\"\n",
    "filename = os.path.join(textpath, \"T_80.txt\")\n",
    "input_file = open(filename, 'r')\n",
    "text = input_file.read()\n",
    "print(text)"
   ]
  },
  {
   "cell_type": "code",
   "execution_count": null,
   "metadata": {
    "collapsed": false
   },
   "outputs": [],
   "source": [
    "def relevant(word):\n",
    "    if (word == \"of\") or (word == \"at\") or (word == \"in\") or (word == \"for\"):\n",
    "        return False\n",
    "    else:\n",
    "        return True\n",
    "    \n",
    "def preprocessing(s):\n",
    "    s = s.replace(\",\",\" \").replace(\"-\",\" \").replace(\".\",\" \")\n",
    "\n",
    "# TO WORK ON XXXXXXXXXXXXXXXXXXXXXXXXXXXXXXXXXXXXXXXXXX\n",
    "def wholesentence(s):\n",
    "    return s\n",
    "\n",
    "### --------------------\n",
    "### RULE 1 - Capitalized First Letters\n",
    "### --------------------\n",
    "def capitalized(s):\n",
    "    words = s.split()\n",
    "    toreturn = True\n",
    "    for word in words:\n",
    "        if (relevant(word)) and word[0].islower():\n",
    "            toreturn = False\n",
    "            break\n",
    "    return toreturn\n",
    "            \n",
    "### --------------------\n",
    "### RULE 2 - Containing \"University\"\n",
    "### --------------------\n",
    "def university(s):\n",
    "    words = s.split()\n",
    "    toreturn = False\n",
    "    for word in words:\n",
    "        if (word == 'University'):\n",
    "            toreturn = True\n",
    "            break\n",
    "    return toreturn\n",
    "\n",
    "### --------------------\n",
    "### RULE 3 - Containing \"College\"\n",
    "### --------------------\n",
    "def college(s):\n",
    "    words = s.split()\n",
    "    toreturn = False\n",
    "    for word in words:\n",
    "        if (word == 'College'):\n",
    "            toreturn = True\n",
    "            break\n",
    "    return toreturn\n",
    "\n",
    "### --------------------\n",
    "### RULE 4 - Start or End with \"University\"\n",
    "### --------------------\n",
    "def se_uni(s):\n",
    "    words = sentence.split()\n",
    "    if words[0] == \"University\" or words[-1] == \"University\":\n",
    "        return True\n",
    "    else:\n",
    "        return False\n",
    "    \n",
    "### --------------------\n",
    "### RULE 5 - Start or End with \"College\"\n",
    "### --------------------\n",
    "def se_uni(s):\n",
    "    words = sentence.split()\n",
    "    if words[0] == \"College\" or words[-1] == \"College\":\n",
    "        return True\n",
    "    else:\n",
    "        return False\n",
    "    \n",
    "    \n",
    "    \n",
    "s = \"University of Wisconsin - Madison\"\n",
    "sentence = \"University of Florida \"\n",
    "print(capitalized(s))\n",
    "print(university(s))\n",
    "print(college(s))\n",
    "\n",
    "\n",
    "    "
   ]
  },
  {
   "cell_type": "code",
   "execution_count": null,
   "metadata": {
    "collapsed": true
   },
   "outputs": [],
   "source": []
  }
 ],
 "metadata": {
  "kernelspec": {
   "display_name": "Python 3",
   "language": "python",
   "name": "python3"
  },
  "language_info": {
   "codemirror_mode": {
    "name": "ipython",
    "version": 3
   },
   "file_extension": ".py",
   "mimetype": "text/x-python",
   "name": "python",
   "nbconvert_exporter": "python",
   "pygments_lexer": "ipython3",
   "version": "3.6.0"
  }
 },
 "nbformat": 4,
 "nbformat_minor": 2
}
