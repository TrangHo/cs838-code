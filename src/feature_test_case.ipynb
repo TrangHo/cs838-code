{
 "cells": [
  {
   "cell_type": "code",
   "execution_count": 5,
   "metadata": {
    "collapsed": false
   },
   "outputs": [
    {
     "name": "stdout",
     "output_type": "stream",
     "text": [
      "professor|professors|student|students|graduate|graduates|classroom|classrooms|campus|freshmen|freshman|sophormore|sophormores|junior|juniors|senior|seniors|dean|deans\n"
     ]
    },
    {
     "data": {
      "text/plain": [
       "<_sre.SRE_Match object; span=(34, 41), match='dean at'>"
      ]
     },
     "execution_count": 5,
     "metadata": {},
     "output_type": "execute_result"
    }
   ],
   "source": [
    "import re\n",
    "from lib.constants import university_nouns\n",
    "# -Whether it has one of the prefixes: \"dean of ... at\"\n",
    "# - Whether it has the prefix: \"professor(s) (of)... at\"\n",
    "def test(str, prefix):\n",
    "    nouns = '|'.join(university_nouns.NOUNS_GO_WITH_UNIVERSITIES)\n",
    "    print (nouns)\n",
    "    # pattern = re.compile('(' + nouns + ')\\\\s' + '\\\\bat')\n",
    "    pattern = re.compile('('+ nouns + ')\\\\s' + '\\\\bof\\\\s\\\\b(\\\\b[a-z]+\\\\s\\\\b)+\\\\bat')\n",
    "    return re.search(pattern, prefix)\n",
    "\n",
    "\n",
    "test_string = 'He is dean of engineering college dean at University of Missouri'\n",
    "match = test('University','He is dean of engineering college dean at')\n",
    "match"
   ]
  },
  {
   "cell_type": "code",
   "execution_count": 6,
   "metadata": {
    "collapsed": false
   },
   "outputs": [
    {
     "data": {
      "text/plain": [
       "<_sre.SRE_Match object; span=(3, 11), match='attended'>"
      ]
     },
     "execution_count": 6,
     "metadata": {},
     "output_type": "execute_result"
    }
   ],
   "source": [
    "import re\n",
    "from lib.constants import university_nouns\n",
    "# Whether it has one these prefixes: \"attend(ed)\"\n",
    "def test(str, prefix):\n",
    "    pattern = re.compile('(attend|attended)$')\n",
    "    return re.search(pattern, prefix)\n",
    "\n",
    "\n",
    "test_string = 'He attended University of Missouri'\n",
    "match = test('University','He attended')\n",
    "match"
   ]
  },
  {
   "cell_type": "code",
   "execution_count": null,
   "metadata": {
    "collapsed": true
   },
   "outputs": [],
   "source": []
  },
  {
   "cell_type": "code",
   "execution_count": null,
   "metadata": {
    "collapsed": true
   },
   "outputs": [],
   "source": []
  },
  {
   "cell_type": "code",
   "execution_count": null,
   "metadata": {
    "collapsed": true
   },
   "outputs": [],
   "source": []
  }
 ],
 "metadata": {
  "kernelspec": {
   "display_name": "Python 3",
   "language": "python",
   "name": "python3"
  },
  "language_info": {
   "codemirror_mode": {
    "name": "ipython",
    "version": 3
   },
   "file_extension": ".py",
   "mimetype": "text/x-python",
   "name": "python",
   "nbconvert_exporter": "python",
   "pygments_lexer": "ipython3",
   "version": "3.5.1"
  }
 },
 "nbformat": 4,
 "nbformat_minor": 0
}
