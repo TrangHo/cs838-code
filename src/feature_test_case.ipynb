{
 "cells": [
  {
   "cell_type": "code",
   "execution_count": 22,
   "metadata": {
    "collapsed": false
   },
   "outputs": [
    {
     "name": "stdout",
     "output_type": "stream",
     "text": [
      "professor|professors|student|students|graduate|graduates|classroom|classrooms|campus|freshmen|freshman|sophormore|sophormores\n"
     ]
    }
   ],
   "source": [
    "import re\n",
    "from lib.constants import university_nouns\n",
    "# -Whether it has one of the prefixes: \"dean of ... at\"\n",
    "# - Whether it has the prefix: \"professor(s) (of)... at\"\n",
    "def test(str, prefix):\n",
    "    nouns = '|'.join(university_nouns.NOUNS_GO_WITH_UNIVERSITIES)\n",
    "    print (nouns)\n",
    "    # pattern = re.compile(nouns + '\\\\s\\\\bat')\n",
    "    pattern = re.compile('('+ nouns + ')\\\\s' + '\\\\bof\\\\s\\\\b(\\\\b[a-z]+\\\\s\\\\b)+\\\\bat')\n",
    "    return re.search(pattern, prefix)\n",
    "\n",
    "\n",
    "test_string = 'He is dean of engineering college sss at University of Missouri'\n",
    "match = test('University','He is dean of engineering college sss at')\n",
    "match"
   ]
  },
  {
   "cell_type": "code",
   "execution_count": null,
   "metadata": {
    "collapsed": true
   },
   "outputs": [],
   "source": []
  },
  {
   "cell_type": "code",
   "execution_count": null,
   "metadata": {
    "collapsed": true
   },
   "outputs": [],
   "source": []
  },
  {
   "cell_type": "code",
   "execution_count": null,
   "metadata": {
    "collapsed": true
   },
   "outputs": [],
   "source": []
  },
  {
   "cell_type": "code",
   "execution_count": null,
   "metadata": {
    "collapsed": true
   },
   "outputs": [],
   "source": []
  }
 ],
 "metadata": {
  "kernelspec": {
   "display_name": "Python 3",
   "language": "python",
   "name": "python3"
  },
  "language_info": {
   "codemirror_mode": {
    "name": "ipython",
    "version": 3
   },
   "file_extension": ".py",
   "mimetype": "text/x-python",
   "name": "python",
   "nbconvert_exporter": "python",
   "pygments_lexer": "ipython3",
   "version": "3.5.1"
  }
 },
 "nbformat": 4,
 "nbformat_minor": 0
}
