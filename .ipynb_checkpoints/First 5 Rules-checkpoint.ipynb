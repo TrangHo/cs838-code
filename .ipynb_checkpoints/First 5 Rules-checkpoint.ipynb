{
 "cells": [
  {
   "cell_type": "code",
   "execution_count": null,
   "metadata": {
    "collapsed": false
   },
   "outputs": [],
   "source": [
    "def relevant(word):\n",
    "    if (word == \"of\") or (word == \"at\") or (word == \"in\") or (word == \"for\"):\n",
    "        return False\n",
    "    else:\n",
    "        return True\n",
    "    \n",
    "def preprocessing(s):\n",
    "    s = s.replace(\",\",\" \").replace(\"-\",\" \").replace(\".\",\" \")\n",
    "\n",
    "### --------------------\n",
    "### RULE 1 - Capitalized First Letters\n",
    "### --------------------\n",
    "def capitalized(s):\n",
    "    words = s.split()\n",
    "    toreturn = True\n",
    "    for word in words:\n",
    "        if (relevant(word)) and word[0].islower():\n",
    "            toreturn = False\n",
    "            break\n",
    "    return toreturn\n",
    "            \n",
    "### --------------------\n",
    "### RULE 2 - Containing \"University\"\n",
    "### --------------------\n",
    "def university(s):\n",
    "    words = s.split()\n",
    "    toreturn = False\n",
    "    for word in words:\n",
    "        if (word == 'University'):\n",
    "            toreturn = True\n",
    "            break\n",
    "    return toreturn\n",
    "\n",
    "### --------------------\n",
    "### RULE 3 - Containing \"College\"\n",
    "### --------------------\n",
    "def college(s):\n",
    "    words = s.split()\n",
    "    toreturn = False\n",
    "    for word in words:\n",
    "        if (word == 'College'):\n",
    "            toreturn = True\n",
    "            break\n",
    "    return toreturn\n",
    "\n",
    "### --------------------\n",
    "### RULE 4 - Start or End with \"University\"\n",
    "### --------------------\n",
    "def se_uni(sentence):\n",
    "    words = sentence.split()\n",
    "    if words[0] == \"University\" or words[-1] == \"University\":\n",
    "        return True\n",
    "    else:\n",
    "        return False\n",
    "    \n",
    "### --------------------\n",
    "### RULE 5 - Start or End with \"College\"\n",
    "### --------------------\n",
    "def se_uni(sentence):\n",
    "    words = sentence.split()\n",
    "    if words[0] == \"College\" or words[-1] == \"College\":\n",
    "        return True\n",
    "    else:\n",
    "        return False\n",
    "    \n",
    "    \n",
    "s = \"University of Wisconsin - Madison\"\n",
    "sentence = \"University of Florida \"\n",
    "print(capitalized(s))\n",
    "print(university(s))\n",
    "print(college(s))\n",
    "\n",
    "\n",
    "    "
   ]
  },
  {
   "cell_type": "code",
   "execution_count": 4,
   "metadata": {
    "collapsed": false
   },
   "outputs": [
    {
     "data": {
      "text/plain": [
       "[1, 0, 1]"
      ]
     },
     "execution_count": 4,
     "metadata": {},
     "output_type": "execute_result"
    }
   ],
   "source": [
    "[int(i) for i in [True, False, True]]"
   ]
  },
  {
   "cell_type": "code",
   "execution_count": null,
   "metadata": {
    "collapsed": true
   },
   "outputs": [],
   "source": []
  }
 ],
 "metadata": {
  "kernelspec": {
   "display_name": "Python 3",
   "language": "python",
   "name": "python3"
  },
  "language_info": {
   "codemirror_mode": {
    "name": "ipython",
    "version": 3
   },
   "file_extension": ".py",
   "mimetype": "text/x-python",
   "name": "python",
   "nbconvert_exporter": "python",
   "pygments_lexer": "ipython3",
   "version": "3.5.1"
  }
 },
 "nbformat": 4,
 "nbformat_minor": 2
}
