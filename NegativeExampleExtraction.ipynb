{
 "cells": [
  {
   "cell_type": "code",
   "execution_count": 258,
   "metadata": {
    "collapsed": true
   },
   "outputs": [],
   "source": [
    "import sys\n",
    "import re\n",
    "filename = 'S_001.txt'\n",
    "input_file = open(filename, 'r')\n",
    "text = input_file.read();"
   ]
  },
  {
   "cell_type": "code",
   "execution_count": 10,
   "metadata": {
    "collapsed": false
   },
   "outputs": [
    {
     "data": {
      "text/plain": [
       "\"Seeking a Celebrity Among Fiji's Floral Bounty\\n\\nBy SERENA SOLOMON \\n\\n\\nTAVEUNI ISLAND, Fiji -- In Fiji, flowers can take on a spiritual, magical significance. They are strung together as garlands for ceremonies and festivals or worn as an ornament behind the ear on any given day.\\n\\nThe South Pacific archipelago is home to about 800 species of plants found nowhere else in the world. But the most special is the tagimoucia, a crimson and white flower that hangs down in clusters like a chain of ruby raindrops. Because of its beauty and rarity, it has attained a kind of celebrity status.\\n\\n''Just to touch it and see it with my own eyes,'' said Lina Sena, 41, her sentence trailing off as she held a clipping recently. ''See how we are treating it? It is history.''\\n\\nExcept for scattered sightings on a neighboring island, the flower grows only on a single mountain ridge on Taveuni, one of the northern islands.\\n\\nThe tagimoucia is the unofficial floral emblem of Fiji and has a prime position on the nation's $50 bill. But to Fijians, its significance stems from several legends of romance and heartbreak.\\n\\nSeeing the flower ''was on my bucket list,'' said Ravi Kumar, 31, who grew up in Fiji but later moved to Australia.\\n\\nMr. Kumar spent a recent day on Taveuni, traipsing through the forest before finally sighting the flower atop its woody vine. Taveuni, known as the Garden Island for its rich volcanic soil and farming, is crowned with dense, dark rain forest that is often shrouded in mist.\\n\\nMr. Kumar said he made the trek because the flower's legend was ''one of the tales you grew up with'' in Fiji.\\n\\nThose tales can vary depending on whom you ask. The song ''Tagimaucia ga'' by Percy Bucknell, a traditional composer, describes how an outsider seized power on Taveuni and made the flower a symbol of his chieftainship. Another tells of a young girl whose tears became tagimoucia flowers when her parents scolded her for not doing her housework.\\n\\nAccording to Emori Tokalau, a governmental liaison to Taveuni's clan leaders, only the flower's custodian can tell the true legend. That is Ratu Viliame Mudu, the chief of Somosomo village on the island's western side.\\n\\nMr. Tokalau described the custodianship ''as a form of copyright,'' giving the holder authority to grant permission for outsiders to visit the flower or use its likeness. He had to get the chief's approval before using the tagimoucia on his office letterhead, he said.\\n\\nTo receive permission, one must arrive at the village with a sevusevu -- a gift or offering -- often the traditional root drink kava. A small ceremony is performed, with men in sarongs and women in long skirts gathered around.\\n\\nOn a visit to the village in November, the chief's son, Akuila Cavuilati, spoke about the flower's history. ''When I was growing up, it was the legend that my great-grandparents carried and gave to us,'' he said.\\n\\nThe tagimoucia already existed before the legend, but only as a simple white flower, Mr. Cavuilati said. That changed when a young princess fell in love with a man from another village, a union her parents vetoed. She ran away in despair.\\n\\nVillage warriors searching for the princess could hear her crying in the forest (tagimoucia can be translated as ''crying tears,'' Mr. Cavuilati said). However, all they could see were tagimoucia flowers with a mysterious new addition: the ruby red petals. Those petals are the girl's tears, Mr. Cavuilati said.\\n\\nAs a boy, Mr. Cavuilati often climbed the mountain with his brothers to pick tagimoucia flowers, sometimes sending them into the capital, Suva, for display at festivals. ''During that time there were so many flowers,'' he said. ''Nowadays, it is very hard to find.''\\n\\nUntil about 30 years ago, access to the flower came only by foot. But then a cellphone tower went up on the mountain's peak, along with a service road. Now people can drive the four-mile pass more easily. Mr. Cavuilati said rarely did anyone come to him to hear the legend or receive his blessing for their journey to the flower.\\n\\nThe path up the mountain is a four-hour-plus hike that starts near Somosomo. Along the way, it was easy to see why the forested mountain was the tagimoucia's natural protector before the access road was built. The trail is littered with felled trees and craters from giant root systems that were ripped out of the ground by cyclones.\\n\\nAfter several hours of hiking, the grandson of Somosomo's chief, Viliame Mudu, spied a small cluster of flowers halfway up a tree. That was the sole sighting of ruby red petals by our group that day.\\n\\nThe tagimoucia's peak flowering season of November and December coincides with school's end, so the flower is a ''hot commodity'' for graduation garlands, said Hao-Li Lin, an anthropologist who completed his Ph.D. thesis on conservation in Taveuni.\\n\\nDuring that period, local hotels bring flowers down for their guests. One morning, Alfred Lewenilovo, 26, headed up the mountain carrying a sugar cane knife and an empty backpack. He said his sister in Suva requested tagimoucia flowers for her 21st birthday garland.\\n\\nThe flower's popularity worries some on Fiji. ''People are going there to see it and put it around their necks, then they come down. After two days they throw it into the rubbish bins,'' said Marika Tuiwawa, a botanist with the <pos>University of the South Pacific</pos>.\\n\\nThe fragility of the flower's existence has always been a concern because of the small areas, or microhabitats, where it grows.\\n\\nWhile the opinion that the flower is now overpicked is widely held, no research has been done to confirm that, said Dick Watling, from NatureFiji-MareqetiViti. The conservation group had investigated the possibility of a Taveuni National Park that would provide more protection to the tagimoucia as well as the forest it inhabits. But its Taveuni office closed in 2014, from a lack of interest and funding.\\n\\nThe area where the flower is found is currently a forest reserve, but it is often encroached upon by farmers, Mr. Watling said.\\n\\n''The real issue is that we have this enormous area of almost pristine forest, the last in Fiji,'' he said. Unless the government realizes the value of that ''it will become increasingly fragmented.''\\n\\nFor now, the tagimoucia continues to inspire Fijians. On a ferry that sails from Taveuni to Suva, I held a tagimoucia clipping given to me by the village chief of Tavuki.\\n\\nThe flower turned heads. A young boy whispered ''tagimoucia'' as he walked past. A woman pointed and mouthed the flower's name before breaking into a smile.\\n\\nAnd Ms. Sena indulged in a mini photo shoot.\\n\\n''Take another one -- a good one,'' she said as her daughter repositioned her camera to capture the flower, now perched behind Ms. Sena's ear.\\n\\nA tour guide searched last fall for the tagimoucia flower on a mountain peak in Taveuni, Fiji. The flower is a symbol of Fiji, both beautiful and rare.; Tagimoucia's popularity worries some people, who fear the flower is being overpicked. (PHOTOGRAPHS BY LAM YIK FEI FOR THE NEW YORK TIMES) \\n\\nDocument NYTF000020170202ed220006l\""
      ]
     },
     "execution_count": 10,
     "metadata": {},
     "output_type": "execute_result"
    }
   ],
   "source": [
    "text"
   ]
  },
  {
   "cell_type": "code",
   "execution_count": 57,
   "metadata": {
    "collapsed": false
   },
   "outputs": [
    {
     "data": {
      "text/plain": [
       "[(5322, 5364)]"
      ]
     },
     "execution_count": 57,
     "metadata": {},
     "output_type": "execute_result"
    }
   ],
   "source": [
    "p_pos =r'<pos>(.*)</pos>' \n",
    "words = re.findall(p_pos,text)\n",
    "[(m.start(0), m.end(0)) for m in re.finditer(p_pos,text)]"
   ]
  },
  {
   "cell_type": "code",
   "execution_count": null,
   "metadata": {
    "collapsed": false
   },
   "outputs": [],
   "source": []
  },
  {
   "cell_type": "code",
   "execution_count": 17,
   "metadata": {
    "collapsed": false
   },
   "outputs": [
    {
     "name": "stdout",
     "output_type": "stream",
     "text": [
      "Taveuni National Park starts from 5717 ends at 5738\n"
     ]
    },
    {
     "data": {
      "text/plain": [
       "['Celebrity Among Fiji',\n",
       " 'Floral Bounty',\n",
       " 'In Fiji',\n",
       " 'The South Pacific',\n",
       " 'Lina Sena',\n",
       " 'Ravi Kumar',\n",
       " 'Garden Island',\n",
       " 'Percy Bucknell',\n",
       " 'Emori Tokalau',\n",
       " 'Ratu Viliame Mudu',\n",
       " 'Akuila Cavuilati',\n",
       " 'Viliame Mudu',\n",
       " 'Li Lin',\n",
       " 'Alfred Lewenilovo',\n",
       " 'Marika Tuiwawa',\n",
       " 'South Pacific',\n",
       " 'Dick Watling',\n",
       " 'Taveuni National Park',\n",
       " 'And Ms']"
      ]
     },
     "execution_count": 17,
     "metadata": {},
     "output_type": "execute_result"
    }
   ],
   "source": [
    "#(                # begin capture\n",
    "#  [A-Z]            # one uppercase letter  \\ First Word\n",
    "#  [a-z]+           # 1+ lowercase letters  /\n",
    "#  (?=\\s[A-Z])      # must have a space and uppercase letter following it\n",
    "#  (?:                # non-capturing group\n",
    "#    \\s               # space\n",
    "#    [A-Z]            # uppercase letter   \\ Additional Word(s)\n",
    "#    [a-z]+           # lowercase letter   /\n",
    "#  )+              # group can be repeated (more words)\n",
    "#)               #end capture\n",
    "\n",
    "\n",
    "p3 = r'([A-Z][a-z]+(?=\\s[A-Z])(?:\\s[A-Z][a-z]+)+)'\n",
    "words = re.findall(p3,text)\n",
    "import random\n",
    "starting = list()\n",
    "ending = list()\n",
    "iter = re.finditer(p3,text)\n",
    "for it in iter:\n",
    "    #print(it.start(), it.end())\n",
    "    starting.append(it.start())\n",
    "    ending.append(it.end())\n",
    "length = len(starting)\n",
    "index = random.randint(0,length-1) # choose an element\n",
    "print('{0} starts from {1} ends at {2}'.format(text[starting[index]:ending[index]],starting[index],ending[index]))\n",
    "words"
   ]
  },
  {
   "cell_type": "code",
   "execution_count": 7,
   "metadata": {
    "collapsed": false
   },
   "outputs": [
    {
     "data": {
      "text/plain": [
       "['Seeking',\n",
       " 'Celebrity',\n",
       " 'Among',\n",
       " 'Fiji',\n",
       " 'Floral',\n",
       " 'Bounty',\n",
       " 'By',\n",
       " 'Fiji',\n",
       " 'In',\n",
       " 'Fiji',\n",
       " 'The',\n",
       " 'South',\n",
       " 'Pacific',\n",
       " 'Just',\n",
       " 'Lina',\n",
       " 'Sena',\n",
       " 'See',\n",
       " 'It',\n",
       " 'Except',\n",
       " 'Taveuni',\n",
       " 'The',\n",
       " 'Fiji',\n",
       " 'Fijians',\n",
       " 'Seeing',\n",
       " 'Ravi',\n",
       " 'Kumar',\n",
       " 'Fiji',\n",
       " 'Australia',\n",
       " 'Mr',\n",
       " 'Taveuni',\n",
       " 'Garden',\n",
       " 'Island',\n",
       " 'Mr',\n",
       " 'Fiji',\n",
       " 'Those',\n",
       " 'Tagimaucia',\n",
       " 'Percy',\n",
       " 'Bucknell',\n",
       " 'Taveuni',\n",
       " 'According',\n",
       " 'Emori',\n",
       " 'Tokalau',\n",
       " 'Taveuni',\n",
       " 'Ratu',\n",
       " 'Viliame',\n",
       " 'Mudu',\n",
       " 'Somosomo',\n",
       " 'Mr',\n",
       " 'To',\n",
       " 'On',\n",
       " 'November',\n",
       " 'Akuila',\n",
       " 'Cavuilati',\n",
       " 'When',\n",
       " 'I',\n",
       " 'The',\n",
       " 'Mr',\n",
       " 'Village',\n",
       " 'Mr',\n",
       " 'Mr',\n",
       " 'As',\n",
       " 'Mr',\n",
       " 'Suva',\n",
       " 'During',\n",
       " 'Nowadays',\n",
       " 'Until',\n",
       " 'The',\n",
       " 'Somosomo',\n",
       " 'After',\n",
       " 'Somosomo',\n",
       " 'Viliame',\n",
       " 'Mudu',\n",
       " 'The',\n",
       " 'November',\n",
       " 'December',\n",
       " 'Hao',\n",
       " 'Li',\n",
       " 'Lin',\n",
       " 'Ph',\n",
       " 'D',\n",
       " 'Taveuni',\n",
       " 'During',\n",
       " 'Alfred',\n",
       " 'Lewenilovo',\n",
       " 'Suva',\n",
       " 'The',\n",
       " 'Fiji',\n",
       " 'People',\n",
       " 'Marika',\n",
       " 'Tuiwawa',\n",
       " 'University',\n",
       " 'South',\n",
       " 'Pacific',\n",
       " 'The',\n",
       " 'While',\n",
       " 'Dick',\n",
       " 'Watling',\n",
       " 'Taveuni',\n",
       " 'National',\n",
       " 'Park',\n",
       " 'Taveuni',\n",
       " 'The',\n",
       " 'Mr',\n",
       " 'The',\n",
       " 'Fiji',\n",
       " 'For',\n",
       " 'Fijians',\n",
       " 'Taveuni',\n",
       " 'Suva',\n",
       " 'I',\n",
       " 'Tavuki',\n",
       " 'The',\n",
       " 'And',\n",
       " 'Ms',\n",
       " 'Take',\n",
       " 'Ms',\n",
       " 'A',\n",
       " 'Taveuni',\n",
       " 'Fiji',\n",
       " 'Fiji',\n",
       " 'Tagimoucia',\n",
       " 'Document']"
      ]
     },
     "execution_count": 7,
     "metadata": {},
     "output_type": "execute_result"
    }
   ],
   "source": [
    "p4 = r'(?<!\\.\\s)\\b[A-Z][a-z]*\\b'\n",
    "# find one capitalized word that is not at the begining of the sentence\n",
    "re.findall(p4,text)"
   ]
  },
  {
   "cell_type": "code",
   "execution_count": 259,
   "metadata": {
    "collapsed": false
   },
   "outputs": [
    {
     "data": {
      "text/plain": [
       "['Hong Kong', 'Hong Kong Univeristy']"
      ]
     },
     "execution_count": 259,
     "metadata": {},
     "output_type": "execute_result"
    }
   ],
   "source": [
    "p3 = r'([A-Z][a-z]+(?=\\s[A-Z])(?:\\s[A-Z][a-z]+)+)'\n",
    "test_string = \"I love Hong Kong, I visited Hong Kong Univeristy\"\n",
    "it = re.findall(p3,test_string)\n",
    "it\n",
    "#length = len(list(s))\n",
    "#index = random.randint(0,length-1) # choose an element\n",
    "#print('{0}{1}{2}'.format(s[index],s[index].start(),s[index].end())"
   ]
  },
  {
   "cell_type": "code",
   "execution_count": 222,
   "metadata": {
    "collapsed": false
   },
   "outputs": [
    {
     "name": "stdout",
     "output_type": "stream",
     "text": [
      "41\n",
      "('at Ken Univ', 'Ken Univ')\n"
     ]
    }
   ],
   "source": [
    "p_at =  r'(\\bat\\s([A-Z][a-z]+(?=\\s[A-Z])(?:\\s[A-Z][a-z]+)+))'\n",
    "test_string = 'He is studying at that Kennedy Univ, not at Ken Univ'\n",
    "it = re.findall(p_at,test_string)\n",
    "its = re.finditer(p_at,test_string)\n",
    "for i in its:\n",
    "    print(i.start())\n",
    "    print(i.groups())"
   ]
  },
  {
   "cell_type": "code",
   "execution_count": 260,
   "metadata": {
    "collapsed": false
   },
   "outputs": [
    {
     "name": "stdout",
     "output_type": "stream",
     "text": [
      "Ken Sun\n"
     ]
    }
   ],
   "source": [
    "p_at =  r'\\b(at|from|in)\\s[A-Z][a-z]+(?:\\s[A-Z][a-z]+)?'\n",
    "test_string = 'He is studying at that Kennedy Univ, not from Ken Sun'\n",
    "it = re.findall(p_at,test_string)\n",
    "its = re.finditer(p_at,test_string)\n",
    "for i in its:\n",
    "    print(test_string[i.start()+len(i.group(1))+1:i.end()])\n",
    "    "
   ]
  },
  {
   "cell_type": "code",
   "execution_count": 68,
   "metadata": {
    "collapsed": false
   },
   "outputs": [
    {
     "data": {
      "text/plain": [
       "'S_023.txt'"
      ]
     },
     "execution_count": 68,
     "metadata": {},
     "output_type": "execute_result"
    }
   ],
   "source": [
    "import glob, os, random\n",
    "#os.chdir(\"/mydir\")\n",
    "file = list(glob.glob(\"*.txt\"))\n",
    "file\n",
    "random.choice(file)"
   ]
  },
  {
   "cell_type": "code",
   "execution_count": 266,
   "metadata": {
    "collapsed": false
   },
   "outputs": [
    {
     "ename": "TypeError",
     "evalue": "'list' object is not callable",
     "output_type": "error",
     "traceback": [
      "\u001b[0;31m---------------------------------------------------------------------------\u001b[0m",
      "\u001b[0;31mTypeError\u001b[0m                                 Traceback (most recent call last)",
      "\u001b[0;32m<ipython-input-266-ab734e823da9>\u001b[0m in \u001b[0;36m<module>\u001b[0;34m()\u001b[0m\n\u001b[1;32m     12\u001b[0m \u001b[0;31m# sl\u001b[0m\u001b[0;34m\u001b[0m\u001b[0;34m\u001b[0m\u001b[0m\n\u001b[1;32m     13\u001b[0m \u001b[0marray\u001b[0m \u001b[0;34m=\u001b[0m \u001b[0;34m[\u001b[0m\u001b[0;34m]\u001b[0m\u001b[0;34m\u001b[0m\u001b[0m\n\u001b[0;32m---> 14\u001b[0;31m \u001b[0mlist\u001b[0m\u001b[0;34m(\u001b[0m\u001b[0mloc\u001b[0m\u001b[0;34m[\u001b[0m\u001b[0;36m0\u001b[0m\u001b[0;34m]\u001b[0m\u001b[0;34m)\u001b[0m\u001b[0;34m\u001b[0m\u001b[0m\n\u001b[0m",
      "\u001b[0;31mTypeError\u001b[0m: 'list' object is not callable"
     ]
    }
   ],
   "source": [
    "def locate(pattern, text):\n",
    "    #location = [(m.start(0), m.end(0)) for m in re.finditer(pattern, text)]\n",
    "    #return location\n",
    "    return re.finditer(pattern, text)\n",
    "pattern = []\n",
    "pattern.append(p3)\n",
    "pattern.append(p_at)\n",
    "\n",
    "loc = [(locate(p,text)) for p in pattern]\n",
    "#loc = list(filter(None,loc))\n",
    "#sl = [random.choice(l) for l in loc]\n",
    "# sl\n",
    "array = []\n",
    "list(loc[0])"
   ]
  },
  {
   "cell_type": "code",
   "execution_count": 126,
   "metadata": {
    "collapsed": false
   },
   "outputs": [],
   "source": [
    "def check_overlap(a_start, a_end, b_start, b_end):\n",
    "    return (a_start <= b_end) & (b_start <= a_end)\n",
    "\n",
    "a = check_overlap(1,3,2,4)\n"
   ]
  },
  {
   "cell_type": "code",
   "execution_count": 193,
   "metadata": {
    "collapsed": false
   },
   "outputs": [
    {
     "name": "stdout",
     "output_type": "stream",
     "text": [
      "2730 2746\n",
      "Akuila Cavuilati\n"
     ]
    }
   ],
   "source": [
    "rand_loc = sl\n",
    "#print(selected_loc)\n",
    "pos_loc = [(4741,4743),(100,200)]\n",
    "#print(pos_loc)\n",
    "select_loc = list()\n",
    "for i in rand_loc:      \n",
    "    flag = 0\n",
    "    for j in pos_loc:\n",
    "        if check_overlap(i[0],i[1],j[0],j[1]):\n",
    "            flag = 1\n",
    "    if flag != 1:\n",
    "        select_loc.append(i)\n",
    "select_loc       \n",
    "for i in select_loc:\n",
    "    print(i[0],i[1])\n",
    "    print(text[i[0]:i[1]])"
   ]
  },
  {
   "cell_type": "code",
   "execution_count": 175,
   "metadata": {
    "collapsed": false
   },
   "outputs": [
    {
     "data": {
      "text/plain": [
       "[['a', 'b', 'a', 'b'], ['a', 'b', 'c'], ['c', 'a', 'b'], ['c', 'c']]"
      ]
     },
     "execution_count": 175,
     "metadata": {},
     "output_type": "execute_result"
    }
   ],
   "source": [
    "\n",
    "\n",
    "import itertools\n",
    "a = [[\"a\",\"b\"], [\"c\"]]\n",
    "b = [[\"a\",\"b\"], [\"c\"]]\n",
    "\n",
    "\n"
   ]
  },
  {
   "cell_type": "code",
   "execution_count": null,
   "metadata": {
    "collapsed": true
   },
   "outputs": [],
   "source": []
  }
 ],
 "metadata": {
  "kernelspec": {
   "display_name": "Python 3",
   "language": "python",
   "name": "python3"
  },
  "language_info": {
   "codemirror_mode": {
    "name": "ipython",
    "version": 3
   },
   "file_extension": ".py",
   "mimetype": "text/x-python",
   "name": "python",
   "nbconvert_exporter": "python",
   "pygments_lexer": "ipython3",
   "version": "3.5.1"
  }
 },
 "nbformat": 4,
 "nbformat_minor": 0
}
