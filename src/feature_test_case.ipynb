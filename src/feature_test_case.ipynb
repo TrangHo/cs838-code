{
 "cells": [
  {
   "cell_type": "code",
   "execution_count": 26,
   "metadata": {
    "collapsed": false
   },
   "outputs": [
    {
     "name": "stdout",
     "output_type": "stream",
     "text": [
      "professor|professors|student|students|graduate|graduates|classroom|classrooms|campus|freshmen|freshman|sophormore|sophormores|junior|juniors|senior|seniors|dean|deans\n"
     ]
    },
    {
     "data": {
      "text/plain": [
       "<_sre.SRE_Match object; span=(6, 41), match='dean of Engineering college dean at'>"
      ]
     },
     "execution_count": 26,
     "metadata": {},
     "output_type": "execute_result"
    }
   ],
   "source": [
    "import re\n",
    "from lib.constants import university_nouns\n",
    "# -Whether it has one of the prefixes: \"dean of ... at\"\n",
    "# - Whether it has the prefix: \"professor(s) (of)... at\"\n",
    "def test(str, prefix):\n",
    "    nouns = '|'.join(university_nouns.NOUNS_GO_WITH_UNIVERSITIES)\n",
    "    print (nouns)\n",
    "    # pattern = re.compile('(' + nouns + ')\\\\s' + '\\\\bat')\n",
    "    pattern = re.compile('('+ nouns + ')\\\\s' + '\\\\bof\\\\s\\\\b(\\\\b[A-Za-z][a-z]+\\\\s\\\\b)+\\\\bat')\n",
    "    return re.search(pattern, prefix)\n",
    "\n",
    "\n",
    "test_string = 'He is dean of engineering college dean at University of Missouri'\n",
    "match = test('University','He is dean of Engineering college dean at')\n",
    "match"
   ]
  },
  {
   "cell_type": "code",
   "execution_count": 6,
   "metadata": {
    "collapsed": false
   },
   "outputs": [
    {
     "data": {
      "text/plain": [
       "<_sre.SRE_Match object; span=(3, 11), match='attended'>"
      ]
     },
     "execution_count": 6,
     "metadata": {},
     "output_type": "execute_result"
    }
   ],
   "source": [
    "import re\n",
    "from lib.constants import university_nouns\n",
    "# Whether it has one these prefixes: \"attend(ed)\"\n",
    "def test(str, prefix):\n",
    "    pattern = re.compile('(attend|attended)$')\n",
    "    return re.search(pattern, prefix)\n",
    "\n",
    "\n",
    "test_string = 'He attended University of Missouri'\n",
    "match = test('University','He attended')\n",
    "match"
   ]
  },
  {
   "cell_type": "code",
   "execution_count": 16,
   "metadata": {
    "collapsed": false
   },
   "outputs": [
    {
     "data": {
      "text/plain": [
       "<_sre.SRE_Match object; span=(3, 18), match='graduating from'>"
      ]
     },
     "execution_count": 16,
     "metadata": {},
     "output_type": "execute_result"
    }
   ],
   "source": [
    "import re\n",
    "from lib.constants import university_nouns\n",
    "# Whether it has one these prefixes: \"attend(ed)\"\n",
    "def test(str, prefix):\n",
    "    pattern = re.compile('(graduated|graduate|graduating|graduates) from$')\n",
    "    return re.search(pattern, prefix)\n",
    "\n",
    "match = test('University','He graduating from')\n",
    "match"
   ]
  },
  {
   "cell_type": "code",
   "execution_count": 24,
   "metadata": {
    "collapsed": false
   },
   "outputs": [
    {
     "name": "stdout",
     "output_type": "stream",
     "text": [
      "recieve|M.B.A|degree|master|bbachelor\n"
     ]
    },
    {
     "data": {
      "text/plain": [
       "<_sre.SRE_Match object; span=(18, 24), match='degree'>"
      ]
     },
     "execution_count": 24,
     "metadata": {},
     "output_type": "execute_result"
    }
   ],
   "source": [
    "import re\n",
    "from lib.constants import prefix_keywords\n",
    "# Whether it has the keywords prefix: \"receive\", \"degree\", \"M.B.A.\", \"master\"\n",
    "#     - Whether it has the prefix: \"received a/an (M.B.A.)/(... degree) (in ...) from\"\n",
    "#     ⁃ and received a law degree from the <pos>University of Pennsylvania</pos>\n",
    "#     ⁃ He graduated cum laude from <pos>Middlebury College</pos> and received an M.B.A. from <pos>Stanford</pos>\n",
    "#     ⁃ He graduated from <pos>Virginia Tech</pos>, and received an M.B.A. in finance from <pos>Washington University</pos> in St. Louis.\n",
    "def test(str, prefix):\n",
    "    nouns = '|'.join(prefix_keywords.PREFIX_KEYWORDS)\n",
    "    print (nouns)\n",
    "    # pattern = re.compile('(' + nouns + ')\\\\s' + '\\\\bat')\n",
    "    pattern = re.compile('('+ nouns + ')')\n",
    "    return re.search(pattern, prefix)\n",
    "\n",
    "match = test('U','and receive a law degree from the')\n",
    "match"
   ]
  },
  {
   "cell_type": "code",
   "execution_count": 67,
   "metadata": {
    "collapsed": false
   },
   "outputs": [],
   "source": [
    "import re\n",
    "\n",
    "# Whether it has suffix: \",/- a/an ... college\"\n",
    "#   - Whether it has suffix: \",/- a/an ... university\"\n",
    "#   - Whether it has suffix: \",/- the ... university\"\n",
    "#   - Whether it has suffix: \",/- the ... college\"\n",
    "\n",
    "#     - <pos>Hillsdale</pos>, a private college\n",
    "#     - <pos>Hillsdale</pos>, a conservative college in Michigan\n",
    "#     ⁃ <pos>Arizona State</pos>, the nation's largest public university\n",
    "#     - ⁃ the president of <pos>Bayan Claremont</pos>, a graduate college in Claremont, Calif.\n",
    "#     - .. professor/student, prefix or post fix with ‘,/-/apostrophe(s)’ . Eg John Something, a Harvard professor,\n",
    "def test(str, suffix):\n",
    "    #pattern = re.compile(\"^(\\\\b[a-z]+\\\\b)*(?!,)\\\\s*(a|an|the)\\\\s(\\\\b[a-z]+\\\\s\\\\b)*(university|college)\")\n",
    "    pattern = re.compile(\"^(?!,)\\\\s*(a|an|the)\\\\s(\\\\b[a-z]+('s)?\\\\s\\\\b)*(university|college)\")\n",
    "    return re.search(pattern, suffix)\n",
    "\n",
    "matched = test('Hillsdale',\"dd,the nation's largest's public university\")\n",
    "matched"
   ]
  },
  {
   "cell_type": "code",
   "execution_count": 46,
   "metadata": {
    "collapsed": false
   },
   "outputs": [],
   "source": [
    "from lib.constants import university_nouns\n",
    "import re\n",
    "\n",
    "# 11(T). Whether it has suffix: \"student(s)\"\n",
    "#   - Whether it has suffix: \"... professor\"\n",
    "#   - Whether it has suffix: \"... campus\"\n",
    "#       - <pos>Hillsdale</pos> students\n",
    "#       ⁃ a <pos>Yale</pos> philosophy professor, a <pos>George Washington University</pos> law professor\n",
    "#       ⁃ <pos>Berkeley</pos> campus police\n",
    "#       ⁃  a <pos>Harvard</pos> political scientist\n",
    "def test(str, suffix):\n",
    "  nouns = '|'.join(university_nouns.NOUNS_GO_WITH_UNIVERSITIES)\n",
    "  pattern = re.compile(\"^(\\\\b\\w\\w+\\\\b)*(?!,)\\s*(\\\\b\\w\\w+\\\\b)*\\\\b(\" + nouns + \")\")\n",
    "  return re.search(pattern, suffix)\n"
   ]
  },
  {
   "cell_type": "code",
   "execution_count": 62,
   "metadata": {
    "collapsed": false
   },
   "outputs": [
    {
     "data": {
      "text/plain": [
       "<_sre.SRE_Match object; span=(0, 0), match=''>"
      ]
     },
     "execution_count": 62,
     "metadata": {},
     "output_type": "execute_result"
    }
   ],
   "source": [
    "re.search(r\"('s)?\", \"He's fine\")"
   ]
  },
  {
   "cell_type": "code",
   "execution_count": null,
   "metadata": {
    "collapsed": true
   },
   "outputs": [],
   "source": []
  }
 ],
 "metadata": {
  "kernelspec": {
   "display_name": "Python 3",
   "language": "python",
   "name": "python3"
  },
  "language_info": {
   "codemirror_mode": {
    "name": "ipython",
    "version": 3
   },
   "file_extension": ".py",
   "mimetype": "text/x-python",
   "name": "python",
   "nbconvert_exporter": "python",
   "pygments_lexer": "ipython3",
   "version": "3.5.1"
  }
 },
 "nbformat": 4,
 "nbformat_minor": 0
}
