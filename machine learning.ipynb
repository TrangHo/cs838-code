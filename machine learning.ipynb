{
 "cells": [
  {
   "cell_type": "code",
   "execution_count": 125,
   "metadata": {
    "collapsed": false
   },
   "outputs": [
    {
     "name": "stdout",
     "output_type": "stream",
     "text": [
      "1698,precision: 0.9198266522210184,136, recall: 0.53125\n"
     ]
    }
   ],
   "source": [
    "from sklearn import svm\n",
    "import os\n",
    "cwd = os.getcwd()\n",
    "pos_filepath = cwd + '/examples/postiveExamples.csv'\n",
    "neg_filepath = cwd + '/examples/negativeExamples.csv'\n",
    "#pos_example = open(pos_filepath).read()\n",
    "#neg_example = open(neg_filepath).read()\n",
    "import csv\n",
    "def change(str):\n",
    "    if str == 'True': return 1\n",
    "    else: return 0\n",
    "\n",
    "import random\n",
    "\n",
    "def load_fv(filepath):\n",
    "    features = list()\n",
    "    with open(filepath, newline='') as csvfile:\n",
    "        reader = csv.reader(csvfile, delimiter=',', quotechar='\"')   \n",
    "        for row in reader:\n",
    "            features.append(list(map(change,row)))\n",
    "        return features\n",
    "pos_feature = load_fv(pos_filepath)\n",
    "a = range(len(pos_feature))\n",
    "rand_index = random.sample(a,len(a))\n",
    "pos_train_fv = list()\n",
    "pos_test_fv = list()\n",
    "count = 0;\n",
    "for i in rand_index:\n",
    "    if count < 800:\n",
    "        pos_train_fv.append(pos_feature[i])\n",
    "        count += 1  \n",
    "    else:  \n",
    "        pos_test_fv.append(pos_feature[i])   \n",
    "        count += 1   \n",
    "pos_train_label = [1]*int(len(pos_train_fv))\n",
    "pos_test_label = [1]*len(pos_test_fv)\n",
    "        \n",
    "neg_feature = load_fv(neg_filepath)\n",
    "a = range(len(neg_feature))\n",
    "rand_index = random.sample(a,len(a))\n",
    "neg_train_fv = list()\n",
    "neg_test_fv = list()\n",
    "count = 0;\n",
    "for i in rand_index:\n",
    "    if count < 1200:\n",
    "        neg_train_fv.append(neg_feature[i])\n",
    "        count += 1  \n",
    "    else:  \n",
    "        neg_test_fv.append(neg_feature[i])   \n",
    "        count += 1         \n",
    "        \n",
    "neg_train_label = [0]*len(neg_train_fv)    \n",
    "neg_test_label = [0]*len(neg_test_fv)\n",
    "\n",
    "clf = svm.SVC()\n",
    "clf.fit(pos_train_fv+neg_train_fv, pos_train_label+neg_train_label)\n",
    "prediction = clf.predict(pos_test_fv+neg_test_fv)\n",
    "pr = 0\n",
    "rc = 0\n",
    "for p,q in zip(prediction,pos_test_label+neg_test_label):\n",
    "    if p == q:\n",
    "        pr += 1\n",
    "    if q == 1 and p == q:\n",
    "        rc += 1\n",
    "print ('{},precision: {},{}, recall: {}'.format(pr,pr/len(prediction),rc, rc/len(pos_test_label)))"
   ]
  },
  {
   "cell_type": "code",
   "execution_count": 111,
   "metadata": {
    "collapsed": false
   },
   "outputs": [
    {
     "ename": "ImportError",
     "evalue": "No module named 'lib'",
     "output_type": "error",
     "traceback": [
      "\u001b[0;31m---------------------------------------------------------------------------\u001b[0m",
      "\u001b[0;31mImportError\u001b[0m                               Traceback (most recent call last)",
      "\u001b[0;32m<ipython-input-111-3c5a1cc82fba>\u001b[0m in \u001b[0;36m<module>\u001b[0;34m()\u001b[0m\n\u001b[0;32m----> 1\u001b[0;31m \u001b[0;32mfrom\u001b[0m \u001b[0mlib\u001b[0m \u001b[0;32mimport\u001b[0m \u001b[0mfeatureGenerator\u001b[0m\u001b[0;34m\u001b[0m\u001b[0m\n\u001b[0m\u001b[1;32m      2\u001b[0m \u001b[0;32mimport\u001b[0m \u001b[0mre\u001b[0m\u001b[0;34m\u001b[0m\u001b[0m\n\u001b[1;32m      3\u001b[0m \u001b[0mtest_string\u001b[0m \u001b[0;34m=\u001b[0m \u001b[0;34m\"He is a genious. He went to get a PhD. and M.B.A from University of Wisconsin.\"\u001b[0m\u001b[0;34m\u001b[0m\u001b[0m\n\u001b[1;32m      4\u001b[0m \u001b[0mpattern\u001b[0m \u001b[0;34m=\u001b[0m \u001b[0;34mr\"Wisconsin\"\u001b[0m\u001b[0;34m\u001b[0m\u001b[0m\n\u001b[1;32m      5\u001b[0m \u001b[0mmatched\u001b[0m \u001b[0;34m=\u001b[0m \u001b[0mre\u001b[0m\u001b[0;34m.\u001b[0m\u001b[0mfinditer\u001b[0m\u001b[0;34m(\u001b[0m\u001b[0mpattern\u001b[0m\u001b[0;34m,\u001b[0m \u001b[0mtest_string\u001b[0m\u001b[0;34m)\u001b[0m\u001b[0;34m\u001b[0m\u001b[0m\n",
      "\u001b[0;31mImportError\u001b[0m: No module named 'lib'"
     ]
    }
   ],
   "source": [
    "from lib import featureGenerator\n",
    "import re\n",
    "test_string = \"He is a genious. He went to get a PhD. and M.B.A from University of Wisconsin.\"\n",
    "pattern = r\"Wisconsin\"\n",
    "matched = re.finditer(pattern, test_string) \n",
    "for i in matched:\n",
    "    fv = FeatureGenerator()\n",
    "    fv.generate_features(test_string,i.start(),i.end())\n",
    "    print(fv.str)\n",
    "    print(fv.prefix)\n",
    "    print(fv.suffix)\n",
    "    print(fv.features)"
   ]
  },
  {
   "cell_type": "code",
   "execution_count": 19,
   "metadata": {
    "collapsed": false
   },
   "outputs": [
    {
     "data": {
      "text/plain": [
       "[True, False, False, False, False]"
      ]
     },
     "execution_count": 19,
     "metadata": {},
     "output_type": "execute_result"
    }
   ],
   "source": [
    "s = ['True', 'False', 'False', 'False', 'False']\n",
    "def change(str):\n",
    "    if str == 'True': return True\n",
    "    else: return False\n",
    "list(map(change,s))"
   ]
  },
  {
   "cell_type": "code",
   "execution_count": 126,
   "metadata": {
    "collapsed": false
   },
   "outputs": [
    {
     "data": {
      "text/plain": [
       "<map at 0x10667d320>"
      ]
     },
     "execution_count": 126,
     "metadata": {},
     "output_type": "execute_result"
    }
   ],
   "source": [
    "map(change,row)"
   ]
  },
  {
   "cell_type": "code",
   "execution_count": 135,
   "metadata": {
    "collapsed": false
   },
   "outputs": [
    {
     "data": {
      "text/plain": [
       "{'p': 1, 'pred': [0, 0, 1, 0], 'rc': 0}"
      ]
     },
     "execution_count": 135,
     "metadata": {},
     "output_type": "execute_result"
    }
   ],
   "source": [
    "def foo():\n",
    "    p = 1;\n",
    "    rc = 0;\n",
    "    pred = [0, 0, 1, 0]\n",
    "    return dict(p = p, rc = rc, pred = pred)\n",
    "a = foo()\n",
    "a"
   ]
  },
  {
   "cell_type": "code",
   "execution_count": 17,
   "metadata": {
    "collapsed": false
   },
   "outputs": [
    {
     "name": "stdout",
     "output_type": "stream",
     "text": [
      "[array([8, 1, 2, 3, 6, 4, 5])]\n",
      "[array([7, 9, 0])]\n"
     ]
    }
   ],
   "source": [
    "import sklearn\n",
    "from sklearn.model_selection import StratifiedShuffleSplit\n",
    "X = [[1, 2], [3, 4], [1, 2], [3, 4],[1,1],[2,2],[3,3],[4,4],[5,5],[6,6]]\n",
    "y = [0, 0, 1, 1, 1, 1, 1, 1,1, 1]\n",
    "sss = StratifiedShuffleSplit(n_splits=1, test_size=0.3, random_state=0)\n",
    "sss.get_n_splits(X, y)\n",
    "slices = sss.split\n",
    "train_index = list()\n",
    "test_index = list()\n",
    "X_train = list()\n",
    "y_test = list()\n",
    "X_test = list()\n",
    "y_test = list()\n",
    "\n",
    "test\n",
    "for train_idx, test_idx in sss.split(X, y):\n",
    "    train_index.append(train_idx)\n",
    "    test_index.append(test_idx)\n",
    "    X_train, X_test = X[train_index], X[test_index]\n",
    "    y_train, y_test = y[train_index], y[test_index]    \n",
    "print(train_index)\n",
    "print(test_index)"
   ]
  },
  {
   "cell_type": "code",
   "execution_count": null,
   "metadata": {
    "collapsed": true
   },
   "outputs": [],
   "source": []
  }
 ],
 "metadata": {
  "kernelspec": {
   "display_name": "Python 3",
   "language": "python",
   "name": "python3"
  },
  "language_info": {
   "codemirror_mode": {
    "name": "ipython",
    "version": 3
   },
   "file_extension": ".py",
   "mimetype": "text/x-python",
   "name": "python",
   "nbconvert_exporter": "python",
   "pygments_lexer": "ipython3",
   "version": "3.5.3"
  }
 },
 "nbformat": 4,
 "nbformat_minor": 0
}
