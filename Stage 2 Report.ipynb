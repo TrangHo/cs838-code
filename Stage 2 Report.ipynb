{
 "cells": [
  {
   "cell_type": "markdown",
   "metadata": {},
   "source": [
    "### CS 838 &mdash; Data Science: Principles, Algorithms, and Applications; Spring 2017 ###\n",
    "\n",
    "#  Stage 2: extracting structured information from raw data #\n",
    "\n",
    "#### Trang Ho, Thomas Ngo, Qinyuan Sun\n",
    "\n",
    "*****\n",
    "\n",
    "### Table of Contents\n",
    "\n",
    "1. [Introduction](#1.Introduction)\n",
    "1. [Evaluation](#2.Evaluation)\n",
    "1. [Links](#3.Links)\n"
   ]
  },
  {
   "cell_type": "markdown",
   "metadata": {},
   "source": [
    "## 1.Introduction ##\n",
    "In this project stage, our team perform information extraction (IE) from natural text documents, using a supervised learning approach. We decide to extract tertiary educational affiliation from text. The source of text come from stories containing keyword university crawled from [New York Times](https://www.nytimes.com/). We exctracted 300 text documents in total. \n",
    "\n",
    "We manually mark up the educational affliliation with < pos > </ pos > pair to serve positive examples for supervised learning. To extract negative examples, we wrote couple regular expression pattern to extract strings from the text that do not overlap the positive examples and randomly choose a subset of them to serve as our negative examples. The [regular expression pattern](https://github.com/TrangHo/cs838-code/blob/master/src/lib/constants/patterns.py) reflect the strings we think can be similar to positive examples. In addition to that, we also added some random strings with word length ranging from one to four to negative examples.\n",
    "\n",
    "To generate feature vectors from the positive and negative examples, we designed 17 functions that take a string and its surrounding texts and output either zero or one. Therefore our feature vector has dimension 17.\n",
    "\n",
    "The machine learning algoirthms we employed are support vector machine, decision tree, random forest, logistic regression and multilayer perceptron neural network. We set aside 100 text documents as [test set](https://github.com/TrangHo/cs838-code/tree/master/test-examples) to generate testing examples and use the rest of text documents as [train set](https://github.com/TrangHo/cs838-code/tree/master/train-texts) to generate training examples.\n",
    "\n"
   ]
  },
  {
   "cell_type": "markdown",
   "metadata": {},
   "source": [
    "## 2.Evaluation ##\n",
    "\n",
    "At first, we only used first 16 features. The result of the learning algorithms are close. We have about 0.9 precision and 0.5 recall. After we inspected the false positive and false negative, we found out that quite a few false negatives are single word university such as Stanford, Yale. We added a dictionary for these case as feature 17. This feature increases both precison and recall.\n",
    "\n",
    "\n",
    "| Machine Learning Algorithm| Ave CV Precision | Ave CV Recall  |\n",
    "| ------------------------- |:----------------:| :-------------:|\n",
    "| Support Vector Machine    | 0.9              | 0.7 |\n",
    "| Decsion Tree              | 0.89              |   0.7 |\n",
    "| Random Forest             | 0.89              |    0.5|\n",
    "| Logistic Regression       | 0.89              |    0.5|\n",
    "| Neural Network            | 0.89              |    0.5|"
   ]
  },
  {
   "cell_type": "markdown",
   "metadata": {},
   "source": [
    "## 3.Links ##\n",
    "\n",
    "link to 300 text document\n",
    "\n",
    "link to training set\n",
    "\n",
    "link to test set\n",
    "\n",
    "link to source code\n",
    "\n",
    "link to a zip file for stage 2 related documents\n",
    "\n"
   ]
  },
  {
   "cell_type": "code",
   "execution_count": null,
   "metadata": {
    "collapsed": true
   },
   "outputs": [],
   "source": []
  }
 ],
 "metadata": {
  "kernelspec": {
   "display_name": "Python 3",
   "language": "python",
   "name": "python3"
  },
  "language_info": {
   "codemirror_mode": {
    "name": "ipython",
    "version": 3
   },
   "file_extension": ".py",
   "mimetype": "text/x-python",
   "name": "python",
   "nbconvert_exporter": "python",
   "pygments_lexer": "ipython3",
   "version": "3.5.3"
  }
 },
 "nbformat": 4,
 "nbformat_minor": 0
}
